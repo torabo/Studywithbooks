{
 "cells": [
  {
   "cell_type": "code",
   "execution_count": 23,
   "metadata": {},
   "outputs": [
    {
     "name": "stdout",
     "output_type": "stream",
     "text": [
      "mean :  6162876.3\n",
      "trim mean :  4783697.125\n",
      "median :  4436369.5\n"
     ]
    }
   ],
   "source": [
    "import pandas as pd \n",
    "import scipy.stats as sc\n",
    "state = pd.read_csv('../data/state.csv')\n",
    "\n",
    "print('mean : ',state['Population'].mean())\n",
    "print('trim mean : ', sc.trim_mean(state['Population'],0.1))\n",
    "print('median : ',state['Population'].median())\n"
   ]
  },
  {
   "cell_type": "code",
   "execution_count": null,
   "metadata": {},
   "outputs": [
    {
     "name": "stdout",
     "output_type": "stream",
     "text": [
      "wmean :  4.445833981123393\n",
      "wmedian :  4.4\n"
     ]
    }
   ],
   "source": [
    "import wquantiles\n",
    "import numpy as np\n",
    "#가중평균 , 가중 중간값\n",
    "print('wmean : ',np.average(state['Murder.Rate'] , weights = state['Population']))\n",
    "print('wmedian : ' ,wquantiles.median(state['Murder.Rate'], weights = state['Population']))"
   ]
  },
  {
   "cell_type": "code",
   "execution_count": null,
   "metadata": {},
   "outputs": [],
   "source": [
    "6.6(48161)\n",
    "7.6(55778)\n",
    "9.6 (65,615)\n",
    "9.2 (66,053)"
   ]
  }
 ],
 "metadata": {
  "kernelspec": {
   "display_name": "tora",
   "language": "python",
   "name": "tora"
  },
  "language_info": {
   "codemirror_mode": {
    "name": "ipython",
    "version": 3
   },
   "file_extension": ".py",
   "mimetype": "text/x-python",
   "name": "python",
   "nbconvert_exporter": "python",
   "pygments_lexer": "ipython3",
   "version": "3.12.7"
  }
 },
 "nbformat": 4,
 "nbformat_minor": 2
}
